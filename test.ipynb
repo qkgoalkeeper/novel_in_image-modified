{
 "cells": [
  {
   "cell_type": "code",
   "execution_count": 2,
   "metadata": {},
   "outputs": [],
   "source": [
    "#这段代码将文字加密成位图，注意修改filename哦"
   ]
  },
  {
   "cell_type": "code",
   "execution_count": 2,
   "metadata": {},
   "outputs": [],
   "source": [
    "from PIL import Image\n",
    "import math\n",
    "\n",
    "def encode(text):\n",
    "    str_len = len(text)\n",
    "    width = math.ceil(str_len**0.5)\n",
    "    im = Image.new(\"RGB\", (width, width), 0x0)\n",
    "\n",
    "    x, y = 0, 0\n",
    "    for i in text:\n",
    "        index = ord(i)\n",
    "        rgb = ( 0,  (index & 0xFF00) >> 8,  index & 0xFF)\n",
    "        im.putpixel( (x, y),  rgb )\n",
    "        if x == width - 1:\n",
    "            x = 0\n",
    "            y += 1\n",
    "        else:\n",
    "            x += 1\n",
    "    return im\n",
    "\n",
    "filename=\"Araby.txt\"\n",
    "with open(filename, encoding=\"utf-8\") as f:\n",
    "    all_text = f.read()\n",
    "\n",
    "im = encode(all_text)\n",
    "im.save(\"{}_layout.bmp\".format('.'.join(filename.split('.')[:-1])))\n",
    "\n",
    "\n",
    "\n",
    "#(index & 0xFF0000) >> 16"
   ]
  },
  {
   "cell_type": "code",
   "execution_count": null,
   "metadata": {},
   "outputs": [],
   "source": [
    "#这段代码将位图加密成文字，注意修改filename哦"
   ]
  },
  {
   "cell_type": "code",
   "execution_count": 3,
   "metadata": {},
   "outputs": [],
   "source": [
    "from PIL import Image\n",
    "\n",
    "def decode(im):\n",
    "    width, height = im.size\n",
    "    lst = [ ]\n",
    "    for y in range(height):\n",
    "        for x in range(width):\n",
    "            red, green, blue = im.getpixel((x, y))\n",
    "            if (blue | green | red) == 0:\n",
    "                break\n",
    "            \n",
    "            index = (green << 8) + blue\n",
    "            lst.append( chr(index) )\n",
    "\n",
    "    return ''.join(lst)\n",
    "\n",
    "\n",
    "filename = \"Araby_layout.bmp\"\n",
    "all_text = decode(Image.open(filename))\n",
    "with open(\"{}_decode.txt\".format('.'.join(filename.split('.')[:-1])), \"w\", encoding = \"utf-8\") as f:\n",
    "    f.write(all_text)\n",
    "\n"
   ]
  },
  {
   "cell_type": "code",
   "execution_count": null,
   "metadata": {},
   "outputs": [],
   "source": []
  }
 ],
 "metadata": {
  "kernelspec": {
   "display_name": "Python 3",
   "language": "python",
   "name": "python3"
  },
  "language_info": {
   "codemirror_mode": {
    "name": "ipython",
    "version": 3
   },
   "file_extension": ".py",
   "mimetype": "text/x-python",
   "name": "python",
   "nbconvert_exporter": "python",
   "pygments_lexer": "ipython3",
   "version": "3.7.3"
  }
 },
 "nbformat": 4,
 "nbformat_minor": 4
}
