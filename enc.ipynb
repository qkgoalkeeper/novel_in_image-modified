{
 "cells": [
  {
   "cell_type": "code",
   "execution_count": null,
   "metadata": {},
   "outputs": [],
   "source": [
    "from PIL import Image\n",
    "import math\n",
    "\n",
    "def encode(text):\n",
    "    str_len = len(text)\n",
    "    width = math.ceil(str_len**0.5)\n",
    "    im = Image.new(\"RGB\", (width, width), 0x0)\n",
    "\n",
    "    x, y = 0, 0\n",
    "    for i in text:\n",
    "        index = ord(i)\n",
    "        rgb = ( 0,  (index & 0xFF00) >> 8,  index & 0xFF)\n",
    "        im.putpixel( (x, y),  rgb )\n",
    "        if x == width - 1:\n",
    "            x = 0\n",
    "            y += 1\n",
    "        else:\n",
    "            x += 1\n",
    "    return im\n",
    "\n",
    "def main(filename: str):\n",
    "    with open(filename, encoding=\"utf-8\") as f:\n",
    "        all_text = f.read()\n",
    "        \n",
    "    im = encode(all_text)\n",
    "    im.save(\"{}_layout.bmp\".format('.'.join(filename.split('.')[:-1])))\n",
    "\n",
    "if __name__ == '__main__':\n",
    "    main('三体全集.txt')\n",
    "\n",
    "#(index & 0xFF0000) >> 16"
   ]
  }
 ],
 "metadata": {
  "kernelspec": {
   "display_name": "Python 3",
   "language": "python",
   "name": "python3"
  },
  "language_info": {
   "codemirror_mode": {
    "name": "ipython",
    "version": 3
   },
   "file_extension": ".py",
   "mimetype": "text/x-python",
   "name": "python",
   "nbconvert_exporter": "python",
   "pygments_lexer": "ipython3",
   "version": "3.7.3"
  }
 },
 "nbformat": 4,
 "nbformat_minor": 4
}
