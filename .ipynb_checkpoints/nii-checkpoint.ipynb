{
 "cells": [
  {
   "cell_type": "code",
   "execution_count": null,
   "metadata": {},
   "outputs": [],
   "source": [
    "import os\n",
    "import sys\n",
    "import enc\n",
    "import dec\n",
    "\n",
    "args = sys.argv\n",
    "rds = ['-e', '-d']\n",
    "\n",
    "def layout_help():\n",
    "    help_content = '''\n",
    "    Novel_In_Image v0.2\n",
    "    Usage: python {} [[-e|-d filename]|-h|-i]\n",
    "    -e : Encode the file\n",
    "    -d : Decode the file\n",
    "    -h : View this help page\n",
    "    -i : Install the dependencies\n",
    "    '''.format(sys.argv[0])\n",
    "    print(help_content)\n",
    "    return\n",
    "\n",
    "def install_dependencies():\n",
    "    os.system('pip install pillow')\n",
    "    os.system('pip3 install pillow')\n",
    "    return\n",
    "\n",
    "def raise_err():\n",
    "    help_content = '''\n",
    "    Unknown argument: \"{}\"\n",
    "    Type \"python {} -h\" to see the usage.\n",
    "    '''.format(sys.argv[1], sys.argv[0])\n",
    "    print(help_content)\n",
    "    return\n",
    "\n",
    "if __name__ == '__main__':\n",
    "    if len(args) == 1 or (len(args) == 2 and args[1] == '-h'):\n",
    "        layout_help()\n",
    "    elif len(args) == 2 and args[1] == '-i':\n",
    "        install_dependencies()\n",
    "    elif len(args) == 3 and args[1] in rds:\n",
    "        if args[1] == rds[0]:\n",
    "            enc.main(args[2])\n",
    "        else:\n",
    "            dec.main(args[2])\n",
    "    else:\n",
    "        raise_err()"
   ]
  }
 ],
 "metadata": {
  "kernelspec": {
   "display_name": "Python 3",
   "language": "python",
   "name": "python3"
  },
  "language_info": {
   "codemirror_mode": {
    "name": "ipython",
    "version": 3
   },
   "file_extension": ".py",
   "mimetype": "text/x-python",
   "name": "python",
   "nbconvert_exporter": "python",
   "pygments_lexer": "ipython3",
   "version": "3.7.3"
  }
 },
 "nbformat": 4,
 "nbformat_minor": 4
}
