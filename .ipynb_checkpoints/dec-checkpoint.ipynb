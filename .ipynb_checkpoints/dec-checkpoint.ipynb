{
 "cells": [
  {
   "cell_type": "code",
   "execution_count": null,
   "metadata": {},
   "outputs": [],
   "source": [
    "from PIL import Image\n",
    "\n",
    "def decode(im):\n",
    "    width, height = im.size\n",
    "    lst = [ ]\n",
    "    for y in range(height):\n",
    "        for x in range(width):\n",
    "            red, green, blue = im.getpixel((x, y))\n",
    "            if (blue | green | red) == 0:\n",
    "                break\n",
    "            \n",
    "            index = (green << 8) + blue\n",
    "            lst.append( chr(index) )\n",
    "\n",
    "    return ''.join(lst)\n",
    "\n",
    "\n",
    "def main(filename: str):\n",
    "    all_text = decode(Image.open(filename))\n",
    "    with open(\"{}_decode.txt\".format('.'.join(filename.split('.')[:-1])), \"w\", encoding = \"utf-8\") as f:\n",
    "        f.write(all_text)\n",
    "\n",
    "if __name__ == '__main__':\n",
    "    main('out.bmp')"
   ]
  }
 ],
 "metadata": {
  "kernelspec": {
   "display_name": "Python 3",
   "language": "python",
   "name": "python3"
  },
  "language_info": {
   "codemirror_mode": {
    "name": "ipython",
    "version": 3
   },
   "file_extension": ".py",
   "mimetype": "text/x-python",
   "name": "python",
   "nbconvert_exporter": "python",
   "pygments_lexer": "ipython3",
   "version": "3.7.3"
  }
 },
 "nbformat": 4,
 "nbformat_minor": 4
}
